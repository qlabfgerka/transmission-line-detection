{
 "cells": [
  {
   "attachments": {},
   "cell_type": "markdown",
   "metadata": {},
   "source": [
    "# Razpoznava točk daljnovodov\n",
    "\n",
    "## Krmilni parametri\n",
    "\n",
    "V tem odseku se nahajajo krmilni parametri aplikacije:\n",
    "* **ASSETS_FOLDER** - v tem direktoriju se nahajajo *.las* datoteke\n",
    "* **OUTPUT_FOLDER** - v ta direktorij se shranjujejo izhodne *.las* datoteke\n",
    "* **FILENAME** - ime vhodne datoteke, mora se nahajati v **ASSETS_FOLDER**\n",
    "* **OUTPUT_FILENAME** - ime izhodne datoteke\n",
    "* **THR** - maksimalna dovoljena razdalja od premice najboljšega prileganja\n",
    "* **K** - število ponovitev algoritma\n",
    "\n",
    "Vsi direktoriji morajo obstajati za pravilno delovanje aplikacije."
   ]
  },
  {
   "cell_type": "code",
   "execution_count": null,
   "metadata": {},
   "outputs": [],
   "source": [
    "import laspy as las\n",
    "import numpy as np\n",
    "import random\n",
    "import matplotlib.pyplot as plt\n",
    "from mpl_toolkits.mplot3d import Axes3D\n",
    "from skspatial.objects import Line, Point, Points\n",
    "from skspatial.plotting import plot_3d\n",
    "\n",
    "ASSETS_FOLDER = 'assets/'\n",
    "OUTPUT_FOLDER = 'output/'\n",
    "FILENAME = 'GK_559_146.las'\n",
    "OUTPUT_FILENAME = 'output'\n",
    "THR = 10\n",
    "K = 1000"
   ]
  },
  {
   "attachments": {},
   "cell_type": "markdown",
   "metadata": {},
   "source": [
    "Funkcija, ki prikaže naključen nabor točk in njihovo najboljše prilegajoče se premico."
   ]
  },
  {
   "cell_type": "code",
   "execution_count": null,
   "metadata": {},
   "outputs": [],
   "source": [
    "def plot_points(points, line):\n",
    "  plot_3d(\n",
    "    points.plotter(c='r', s=10, depthshade=False),\n",
    "    line.plotter(t_1=-50, t_2=50),\n",
    "  )"
   ]
  },
  {
   "attachments": {},
   "cell_type": "markdown",
   "metadata": {},
   "source": [
    "## Filtriranje točk\n",
    "\n",
    "Iz *.las* datoteke se podatki o *X*, *Y*, *Z* in *classification* združijo v seznam, pridobi se tudi minimalen *Z*, ki označuje višino.\n",
    "\n",
    "Testiranje je dalo najboljše rezultate, ko se filtrirajo točke, ki so na višini $ minimum * 1.08 $ ali višje. \n",
    "\n",
    "Izračuna se naključen *N*, ki je med *0.05%* in *2%*, točke se preuredijo v naključnem vrstnem redu in izbere se prvih *N* točk, zabeleži pa se tudi preostanek.\n",
    "\n",
    "Na koncu se še izpišejo *N*, dolžina filtriranih točk, dolžina vseh točk in $ n-točk + preostanek + manjše\\;od\\;minimuma $"
   ]
  },
  {
   "cell_type": "code",
   "execution_count": null,
   "metadata": {},
   "outputs": [],
   "source": [
    "def get_points(file):\n",
    "  print('GETTING POINTS')\n",
    "  points = np.vstack((file.X, file.Y, file.Z, file.classification)).transpose()\n",
    "\n",
    "  minimum = min(file.Z)\n",
    "  print(minimum, max(file.Z), minimum * 1.08)\n",
    "\n",
    "  #filtered_points = [point for point in points if point[3] < 2]\n",
    "  #remaining_points = [point for point in points if point[3] >= 2]\n",
    "  filtered_points = [point for point in points if point[2] > (minimum * 1.08)]\n",
    "  remaining_points = [point for point in points if point[2] <= (minimum * 1.08)]\n",
    "\n",
    "  #remaining_points.extend([point for point in filtered_points if point[2] <= (minimum + 1100)])\n",
    "  #filtered_points = [point for point in filtered_points if point[2] > (minimum + 1100)]\n",
    "\n",
    "  N = int(len(filtered_points) * random.uniform(0.0005, 0.02))\n",
    "  random.shuffle(filtered_points)\n",
    "\n",
    "  if N < 2:\n",
    "    N = 2\n",
    "  \n",
    "  N_points = filtered_points[0:N]\n",
    "  other_points = filtered_points[N:]\n",
    "\n",
    "  print(N, len(filtered_points), len(points), len(N_points) + len(remaining_points) + len(other_points))\n",
    "\n",
    "  return filtered_points, N_points, other_points, remaining_points"
   ]
  },
  {
   "attachments": {},
   "cell_type": "markdown",
   "metadata": {},
   "source": [
    "## RANSAC\n",
    "\n",
    "Funkcija kot parametre sprejme *N_points*, ki je majhen nabor izven *filtered_points*, *other_points* pa je preostanek, zadnji parameter pa je *error*, ki opisuje napako.\n",
    "\n",
    "Vsaka koordinata v točkah je v tem koraku deljena s 1000, kajti brez tega koraka funkcija *best_fit* vrača slabše rezultate.\n",
    "\n",
    "Iz *N_points* se izračuna najboljše prilegajoča se premica, potem pa se iterira skozi preostale točke *other_points*, kjer se za vsako točko izračuna razdalja do premice. Če je ta razdalja manjša kot **THR**, potem se ta točka odstrani iz preostalih točk *other_points* in se doda k *N_points*.\n",
    "\n",
    "Izpiše se razmerje *N_points* in vseh filtriranih točk *filtered_points* in če je to razmerje nad *0.09* oz. je vseh *N_točk* 9% izmed vseh filtriranih točk, potem se izračuna ponovna najboljše prilegajoče se premica in povprečna napaka, če je napaka manjša od trenutne najboljše napake se tudi vrne iz funkcije napaka, *N_points* in preostale točke *new_other_points*."
   ]
  },
  {
   "cell_type": "code",
   "execution_count": null,
   "metadata": {},
   "outputs": [],
   "source": [
    "def fit(N_points, other_points, filtered_points, error):\n",
    "  print('FITTING')\n",
    "  x = list(map(lambda point: point[0] / 1000, N_points))\n",
    "  y = list(map(lambda point: point[1] / 1000, N_points))\n",
    "  z = list(map(lambda point: point[2] / 1000, N_points))\n",
    "\n",
    "  points_array = Points(np.column_stack((x, y, z)))\n",
    "  line_fit = Line.best_fit(points_array)\n",
    "  new_other_points = []\n",
    "\n",
    "  plot_points(points_array, line_fit)\n",
    "\n",
    "  for point in list(other_points):\n",
    "    distance = line_fit.distance_point(Point([point[0] / 1000, point[1] / 1000, point[2] / 1000]))\n",
    "\n",
    "    if(distance < THR):\n",
    "      N_points.append(point)\n",
    "    else:\n",
    "      new_other_points.append(point)\n",
    "\n",
    "  print(len(N_points) / len(filtered_points))\n",
    "\n",
    "  if len(N_points) / len(filtered_points) > 0.09:\n",
    "    print('FOUND FIT')\n",
    "    x = list(map(lambda point: point[0] / 1000, N_points))\n",
    "    y = list(map(lambda point: point[1] / 1000, N_points))\n",
    "    z = list(map(lambda point: point[2] / 1000, N_points))\n",
    "\n",
    "    points_array = Points(np.column_stack((x, y, z)))\n",
    "    line_fit = Line.best_fit(points_array)\n",
    "    err = 0.0\n",
    "\n",
    "    for point in N_points:\n",
    "      err += line_fit.distance_point([point[0] / 1000, point[1] / 1000, point[2] / 1000])\n",
    "\n",
    "    err = err / len(N_points)\n",
    "\n",
    "    print('ERRORS CALCULATED')\n",
    "    if(err < error):\n",
    "      return err, N_points, new_other_points\n",
    "\n",
    "  return None, None, None"
   ]
  },
  {
   "attachments": {},
   "cell_type": "markdown",
   "metadata": {},
   "source": [
    "## Glavni del programa\n",
    "\n",
    "Prebere se *.las* datoteka, nato pa se **K**-krat pridobijo naključne točke in algoritem RANSAC. V primeru, da funkcija **fit** vrne boljše rezultate kot v prejšnih iteracijah, se bo shranla nova datoteka."
   ]
  },
  {
   "cell_type": "code",
   "execution_count": null,
   "metadata": {},
   "outputs": [],
   "source": [
    "file = las.read(ASSETS_FOLDER + FILENAME)\n",
    "error = np.iinfo(np.int64).max\n",
    "\n",
    "for k in range(K):\n",
    "  print(\"===================================\")\n",
    "  print(F\"K = {k + 1}\")\n",
    "  filtered_points, N_points, other_points, remaining_points = get_points(file)\n",
    "\n",
    "  new_err, N_points, other_points = fit(N_points, other_points, filtered_points, error)\n",
    "\n",
    "  if new_err != None and N_points != None and other_points != None:\n",
    "    error = new_err\n",
    "    filename = OUTPUT_FOLDER + OUTPUT_FILENAME + \" \" + str(error) + \".las\"\n",
    "\n",
    "    print(f'SAVING TO FILE: {filename}')\n",
    "\n",
    "    all_points = list(map(lambda point: [point[0], point[1], point[2], 16], N_points)) + other_points + remaining_points\n",
    "\n",
    "    output_file = las.LasData(file.header)\n",
    "    output_file.points = file.points.copy()\n",
    "    output_file.X = list(map(lambda point: point[0], all_points))\n",
    "    output_file.Y = list(map(lambda point: point[1], all_points))\n",
    "    output_file.Z = list(map(lambda point: point[2], all_points))\n",
    "    output_file.classification = list(map(lambda point: point[3], all_points))\n",
    "\n",
    "    output_file.write(filename)"
   ]
  },
  {
   "attachments": {},
   "cell_type": "markdown",
   "metadata": {},
   "source": [
    "## Rezultati\n",
    "\n",
    "Na spodnji sliki je po približno 70 iteracijah prikazan zaznan daljnovod.\n",
    "\n",
    "![Zaznani daljnovodi](docs/output.JPG)\n",
    "\n",
    "Na spodnji sliki je prikazana celotna *.las* datoteka.\n",
    "\n",
    "![Celotna slika](docs/entire.JPG)\n",
    "\n",
    "Na spodnji sliki pa je še prikazan odsek in dokaz klasifikacije.\n",
    "\n",
    "![Označeno](docs/entire-marked.JPG)"
   ]
  }
 ],
 "metadata": {
  "kernelspec": {
   "display_name": "Python 3.10.2 64-bit",
   "language": "python",
   "name": "python3"
  },
  "language_info": {
   "codemirror_mode": {
    "name": "ipython",
    "version": 3
   },
   "file_extension": ".py",
   "mimetype": "text/x-python",
   "name": "python",
   "nbconvert_exporter": "python",
   "pygments_lexer": "ipython3",
   "version": "3.10.2"
  },
  "orig_nbformat": 4,
  "vscode": {
   "interpreter": {
    "hash": "6532684ccaeb1bcbbe852b7f75c67e6f1d55df7d386020fd37670376cbe3d2c9"
   }
  }
 },
 "nbformat": 4,
 "nbformat_minor": 2
}
