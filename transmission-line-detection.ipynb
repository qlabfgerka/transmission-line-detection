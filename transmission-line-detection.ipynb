{
 "cells": [
  {
   "cell_type": "code",
   "execution_count": null,
   "metadata": {},
   "outputs": [],
   "source": [
    "import laspy as las\n",
    "import numpy as np\n",
    "import random\n",
    "from skspatial.objects import Line\n",
    "\n",
    "ASSETS_FOLDER = 'assets/'\n",
    "OUTPUT_FOLDER = 'output/'\n",
    "FILENAME = 'lasfile.las'\n",
    "OUTPUT_FILENAME = 'output'\n",
    "THR = 600\n",
    "K = 80"
   ]
  },
  {
   "cell_type": "code",
   "execution_count": null,
   "metadata": {},
   "outputs": [],
   "source": [
    "def get_points(file):\n",
    "  print('GETTING POINTS')\n",
    "  points = np.vstack((file.X, file.Y, file.Z, file.classification)).transpose()\n",
    "\n",
    "  minimum = min(file.Z)\n",
    "\n",
    "  filtered_points = [point for point in points if point[3] < 2]\n",
    "  remaining_points = [point for point in points if point[3] >= 2]\n",
    "\n",
    "  remaining_points.extend([point for point in filtered_points if point[2] <= (minimum * 1.05)])\n",
    "  filtered_points = [point for point in filtered_points if point[2] > (minimum * 1.05)]\n",
    "\n",
    "  N = int(len(filtered_points) * random.uniform(0.005, 0.02))\n",
    "  random.shuffle(filtered_points)\n",
    "  \n",
    "  N_points = filtered_points[0:N]\n",
    "  other_points = filtered_points[N:]\n",
    "\n",
    "  print(len(points), len(N_points) + len(remaining_points) + len(other_points))\n",
    "\n",
    "  return filtered_points, N_points, other_points, remaining_points"
   ]
  },
  {
   "cell_type": "code",
   "execution_count": null,
   "metadata": {},
   "outputs": [],
   "source": [
    "def fit(N_points, other_points, filtered_points, errors, N_points_array, other_points_array):\n",
    "  print('FITTING')\n",
    "  line_fit = Line.best_fit(list(map(lambda point: [point[0], point[1], point[2]], N_points)))\n",
    "  new_other_points = []\n",
    "\n",
    "  for point in list(other_points):\n",
    "    distance = line_fit.distance_point([point[0], point[1], point[2]])\n",
    "\n",
    "    if(distance < THR):\n",
    "      N_points.append(point)\n",
    "    else:\n",
    "      new_other_points.append(point)\n",
    "\n",
    "  print(len(N_points) / len(filtered_points))\n",
    "\n",
    "  if len(N_points) / len(filtered_points) > 0.1:\n",
    "    print('FOUND FIT')\n",
    "    line_fit = Line.best_fit(list(map(lambda point: [point[0], point[1], point[2]], N_points)))\n",
    "    err = 0.0\n",
    "\n",
    "    for point in N_points:\n",
    "      err += line_fit.distance_point([point[0], point[1], point[2]])\n",
    "\n",
    "    print('ERRORS CALCULATED')\n",
    "    errors.append(err)\n",
    "    N_points_array.append(N_points)\n",
    "    other_points_array.append(new_other_points)"
   ]
  },
  {
   "cell_type": "code",
   "execution_count": null,
   "metadata": {},
   "outputs": [],
   "source": [
    "file = las.read(ASSETS_FOLDER + FILENAME)\n",
    "errors = []\n",
    "N_points_array = []\n",
    "other_points_array = []\n",
    "\n",
    "for k in range(K):\n",
    "  print(F\"K = {k + 1}\")\n",
    "  filtered_points, N_points, other_points, remaining_points = get_points(file)\n",
    "\n",
    "  fit(N_points, other_points, filtered_points, errors, N_points_array, other_points_array)\n",
    "\n",
    "  if len(errors) > 0:\n",
    "    min_index = np.argmin(errors)\n",
    "    filename = OUTPUT_FOLDER + OUTPUT_FILENAME + \" \" + str(errors[min_index]) + \".las\"\n",
    "\n",
    "    print(f'SAVING TO FILE: {filename}')\n",
    "\n",
    "    all_points = list(map(lambda point: [point[0], point[1], point[2], 16], N_points_array[min_index])).extend(other_points_array[min_index]).extend(remaining_points)\n",
    "\n",
    "    output_file = las.LasData(file.header)\n",
    "    output_file.points = file.points.copy()\n",
    "    output_file.X = list(map(lambda point: point[0], all_points))\n",
    "    output_file.Y = list(map(lambda point: point[1], all_points))\n",
    "    output_file.Z = list(map(lambda point: point[2], all_points))\n",
    "    output_file.classification = list(map(lambda point: point[3], all_points))\n",
    "\n",
    "    output_file.write(filename)"
   ]
  }
 ],
 "metadata": {
  "kernelspec": {
   "display_name": "Python 3.10.2 64-bit",
   "language": "python",
   "name": "python3"
  },
  "language_info": {
   "codemirror_mode": {
    "name": "ipython",
    "version": 3
   },
   "file_extension": ".py",
   "mimetype": "text/x-python",
   "name": "python",
   "nbconvert_exporter": "python",
   "pygments_lexer": "ipython3",
   "version": "3.10.2"
  },
  "orig_nbformat": 4,
  "vscode": {
   "interpreter": {
    "hash": "6532684ccaeb1bcbbe852b7f75c67e6f1d55df7d386020fd37670376cbe3d2c9"
   }
  }
 },
 "nbformat": 4,
 "nbformat_minor": 2
}
