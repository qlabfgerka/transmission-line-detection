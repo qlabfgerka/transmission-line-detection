{
 "cells": [
  {
   "cell_type": "code",
   "execution_count": null,
   "metadata": {},
   "outputs": [],
   "source": [
    "import laspy as las\n",
    "import numpy as np\n",
    "import random\n",
    "from skspatial.objects import Line\n",
    "\n",
    "ASSETS_FOLDER = 'assets/'\n",
    "OUTPUT_FOLDER = 'output/'\n",
    "FILENAME = 'lasfile.las'\n",
    "OUTPUT_FILENAME = 'output.las'\n",
    "THR = 50\n",
    "K = 80"
   ]
  },
  {
   "cell_type": "code",
   "execution_count": null,
   "metadata": {},
   "outputs": [],
   "source": [
    "file = las.read(ASSETS_FOLDER + FILENAME)\n",
    "print(np.unique(file.classification))\n",
    "\n",
    "points = np.vstack((file.X, file.Y, file.Z, file.classification)).transpose()\n",
    "print(len(points))\n",
    "\n",
    "filtered_points = [point for point in points if point[3] != 6]\n",
    "remaining_points = [point for point in points if point[3] == 6]\n",
    "print(len(filtered_points))\n",
    "\n",
    "classes = list(set(map(lambda point: point[3], filtered_points)))\n",
    "print(len(classes))\n",
    "print(classes)\n",
    "\n",
    "N = int(len(filtered_points) * random.uniform(0.0005, 0.002))\n",
    "random.shuffle(filtered_points)\n",
    "N_points = filtered_points[0:N]\n",
    "other_points = filtered_points[N:]\n",
    "\n",
    "print(N)\n",
    "print(len(N_points))\n",
    "print(len(other_points))"
   ]
  },
  {
   "cell_type": "code",
   "execution_count": null,
   "metadata": {},
   "outputs": [],
   "source": [
    "line_fit = Line.best_fit(list(map(lambda point: [point[0], point[1], point[2]], N_points)))\n",
    "print(line_fit)\n",
    "\n",
    "point = other_points[0]\n",
    "print()\n",
    "\n",
    "for point in list(other_points):\n",
    "  distance = line_fit.distance_point([point[0], point[1], point[2]])\n",
    "\n",
    "  if(distance < THR):\n",
    "    N_points.append(point)\n",
    "    other_points.remove(point)\n",
    "\n",
    "print(len(N_points) / len(filtered_points))"
   ]
  },
  {
   "cell_type": "code",
   "execution_count": null,
   "metadata": {},
   "outputs": [],
   "source": [
    "errors = []\n",
    "N_points_array = []\n",
    "filtered_points_array = []\n",
    "\n",
    "#if len(N_points) / len(filtered_points) > 0.1:\n",
    "print('FOUND FIT')\n",
    "line_fit = Line.best_fit(list(map(lambda point: [point[0], point[1], point[2]], N_points)))\n",
    "err = 0.0\n",
    "\n",
    "for point in N_points:\n",
    "  err += line_fit.distance_point([point[0], point[1], point[2]])\n",
    "\n",
    "errors.append(err)\n",
    "N_points_array.append(N_points)\n",
    "filtered_points_array.append(filtered_points)"
   ]
  },
  {
   "cell_type": "code",
   "execution_count": null,
   "metadata": {},
   "outputs": [],
   "source": [
    "if len(errors) > 0:\n",
    "  min_index = np.argmin(errors)\n",
    "\n",
    "  all_points = list(map(lambda point: [point[0], point[1], point[2], 12], N_points_array[min_index])) + filtered_points_array[min_index] + remaining_points\n",
    "\n",
    "  output_file = las.LasData(file.header)\n",
    "  output_file.points = file.points.copy()\n",
    "  output_file.X = list(map(lambda point: point[0], all_points))\n",
    "  output_file.Y = list(map(lambda point: point[1], all_points))\n",
    "  output_file.Z = list(map(lambda point: point[2], all_points))\n",
    "  output_file.classification = list(map(lambda point: point[3], all_points))\n",
    "\n",
    "  output_file.write(OUTPUT_FOLDER + OUTPUT_FILENAME)"
   ]
  }
 ],
 "metadata": {
  "kernelspec": {
   "display_name": "Python 3.10.2 64-bit",
   "language": "python",
   "name": "python3"
  },
  "language_info": {
   "codemirror_mode": {
    "name": "ipython",
    "version": 3
   },
   "file_extension": ".py",
   "mimetype": "text/x-python",
   "name": "python",
   "nbconvert_exporter": "python",
   "pygments_lexer": "ipython3",
   "version": "3.10.2"
  },
  "orig_nbformat": 4,
  "vscode": {
   "interpreter": {
    "hash": "6532684ccaeb1bcbbe852b7f75c67e6f1d55df7d386020fd37670376cbe3d2c9"
   }
  }
 },
 "nbformat": 4,
 "nbformat_minor": 2
}
